{
  "nbformat": 4,
  "nbformat_minor": 0,
  "metadata": {
    "colab": {
      "name": "Iris Classification.ipynb",
      "provenance": [],
      "authorship_tag": "ABX9TyPiy91BAns2uDhn/5mG5rpu",
      "include_colab_link": true
    },
    "kernelspec": {
      "name": "python3",
      "display_name": "Python 3"
    }
  },
  "cells": [
    {
      "cell_type": "markdown",
      "metadata": {
        "id": "view-in-github",
        "colab_type": "text"
      },
      "source": [
        "<a href=\"https://colab.research.google.com/github/Monica132-a/Agriculture-Vision/blob/master/Iris_Classification.ipynb\" target=\"_parent\"><img src=\"https://colab.research.google.com/assets/colab-badge.svg\" alt=\"Open In Colab\"/></a>"
      ]
    },
    {
      "cell_type": "code",
      "metadata": {
        "id": "MEwvOJwr72gy",
        "colab": {
          "base_uri": "https://localhost:8080/",
          "height": 558
        },
        "outputId": "92110791-42a2-47c1-eae1-2bfdb76b0e36"
      },
      "source": [
        "\n",
        "\n",
        "import pandas as pd\n",
        "import tensorflow as tf\n",
        "import tensorflow.compat.v1 as tf\n",
        "tf.disable_v2_behavior()\n",
        "import numpy as np\n",
        "import matplotlib.pyplot as plt\n",
        "import keras\n",
        "from keras.layers import Dense\n",
        "from keras.models import Sequential\n",
        "from sklearn.preprocessing import normalize\n",
        "from subprocess import check_output\n",
        "\n",
        "# Open the file for reading...\n",
        "df = pd.read_csv('Iris.csv')\n",
        "df.head()\n",
        "df = df.drop(['Id'],axis=1)\n",
        "df.isnull().sum()\n",
        "df[\"Species\"] = df[\"Species\"].map({\n",
        "    \"Iris-setosa\": 0,\n",
        "    \"Iris-versicolor\": 1,\n",
        "    \"Iris-virginica\": 2\n",
        "}).astype(int)\n",
        "x_train = df[['SepalLengthCm', 'SepalWidthCm', 'PetalLengthCm', 'PetalWidthCm']]\n",
        "y_train = df['Species']\n",
        "new_y = []\n",
        "for i in y_train:\n",
        "    a = [0,0,0]\n",
        "    a[i] = 1\n",
        "    new_y.append(a)   \n",
        "    \n",
        "columns = list(x_train)\n",
        "X = pd.DataFrame(x_train,columns=columns).values\n",
        "Y = np.array(new_y)\n",
        "#flatten the features for feeding into network base layer\n",
        "\n",
        "X_train_flatten = X.reshape(X.shape[0],-1).T\n",
        "Y_train_flatten = Y.reshape(Y.shape[0],-1).T\n",
        "print(\"No of training (X):\"+str(X_train_flatten.shape))\n",
        "print(\"No of training (X):\"+str(Y_train_flatten.shape))\n",
        "\n",
        "XX_train_flatten = normalize(X_train_flatten)\n",
        "YY_train_flatten = normalize(Y_train_flatten)\n",
        "# creating the placeholders for X & Y \n",
        "def create_placeholders(n_x,n_y):\n",
        "    \n",
        "    X = tf.placeholder(shape=[n_x,None],dtype=tf.float32)\n",
        "    Y = tf.placeholder(shape=[n_y,None],dtype=tf.float32)\n",
        "    \n",
        "    return X,Y\n",
        "#initialize paramete \n",
        "def initialize_parameters():\n",
        "    \n",
        "    W1 = tf.get_variable(\"W1\",[3,4],initializer = tf.zeros_initializer())#tf.contrib.layers.xavier_initializer())\n",
        "    b1 = tf.get_variable(\"b1\",[3,1],initializer = tf.zeros_initializer())\n",
        "\n",
        "    \n",
        "    parameters = {\"W1\":W1,\n",
        "                  \"b1\":b1}\n",
        "                  \n",
        "    return parameters\n",
        "#forward propogation\n",
        "def forward_propagation(X, parameters):\n",
        "    \n",
        "    W1 = parameters['W1']\n",
        "    b1 = parameters['b1']\n",
        "\n",
        "    Z1 = tf.add(tf.matmul(W1,X),b1)\n",
        "\n",
        "    return Z1\n",
        "# compute function \n",
        "def compute_cost(Z1,Y):\n",
        "    \n",
        "    logits = tf.transpose(Z1)\n",
        "    labels = tf.transpose(Y)\n",
        "    \n",
        "    cost = tf.reduce_mean(tf.nn.softmax_cross_entropy_with_logits(logits=logits,labels=labels))\n",
        "    \n",
        "    return cost\n",
        "# Running the NN !! \n",
        "tf.compat.v1.reset_default_graph()\n",
        "(n_x, m) = X_train_flatten.shape       # shape of X                    \n",
        "n_y = Y_train_flatten.shape[0]         # shape of Y\n",
        "X, Y = create_placeholders(n_x,n_y)    # creating placeholder \n",
        "tf.set_random_seed(42)\n",
        "p = initialize_parameters()            # initialize parameter \n",
        "Z6 = forward_propagation(X,p)          # forward prop\n",
        "y_softmax = tf.nn.softmax(Z6)          # softmax function \n",
        "cost = compute_cost(Z6,Y)              # cost function \n",
        "optimizer = tf.train.GradientDescentOptimizer(learning_rate=.01).minimize(cost)  # gradient descent, backprop, update,optimiz\n",
        "sess = tf.Session()\n",
        "sess.run(tf.global_variables_initializer())    #initializae \n",
        "par = sess.run(p)\n",
        "Y_pred = sess.run(Z6,feed_dict={X:X_train_flatten})    #forward prop test \n",
        "cost_value = sess.run(cost,feed_dict={Z6:Y_pred,Y:Y_train_flatten})  #cost function test - First cost function \n",
        "costs =[]\n",
        "for i in range(0,2000):                # 2000 epoch !! \n",
        "    _,new_cost_value = sess.run([optimizer, cost], feed_dict={X: X_train_flatten, Y: Y_train_flatten})\n",
        "    costs.append(new_cost_value)\n",
        "\n",
        "p = sess.run(p)                        # parameter saving \n",
        "y_softmax = sess.run(y_softmax,feed_dict={X: X_train_flatten, Y: Y_train_flatten})    # running softmax \n",
        "\n",
        "plt.plot(np.squeeze(costs))            # plot \n",
        "plt.ylabel('cost')\n",
        "plt.xlabel('iterations (per tens)')\n",
        "plt.title(\"Learning rate =\" + str(.01))\n",
        "plt.show()        \n",
        "correct_prediction = tf.equal(tf.argmax(y_softmax), tf.argmax(Y_train_flatten))\n",
        "accuracy = tf.reduce_mean(tf.cast(correct_prediction, tf.float32))\n",
        "\n",
        "print(\"the Accuracy is :\"+str(sess.run(accuracy, feed_dict={X: X_train_flatten, Y: Y_train_flatten})))"
      ],
      "execution_count": null,
      "outputs": [
        {
          "output_type": "stream",
          "text": [
            "WARNING:tensorflow:From /usr/local/lib/python3.6/dist-packages/tensorflow/python/compat/v2_compat.py:96: disable_resource_variables (from tensorflow.python.ops.variable_scope) is deprecated and will be removed in a future version.\n",
            "Instructions for updating:\n",
            "non-resource variables are not supported in the long term\n",
            "No of training (X):(4, 150)\n",
            "No of training (X):(3, 150)\n",
            "WARNING:tensorflow:From /usr/local/lib/python3.6/dist-packages/tensorflow/python/util/dispatch.py:201: softmax_cross_entropy_with_logits (from tensorflow.python.ops.nn_ops) is deprecated and will be removed in a future version.\n",
            "Instructions for updating:\n",
            "\n",
            "Future major versions of TensorFlow will allow gradients to flow\n",
            "into the labels input on backprop by default.\n",
            "\n",
            "See `tf.nn.softmax_cross_entropy_with_logits_v2`.\n",
            "\n"
          ],
          "name": "stdout"
        },
        {
          "output_type": "display_data",
          "data": {
            "image/png": "[encoded data removed]",
            "text/plain": [
              "<Figure size 432x288 with 1 Axes>"
            ]
          },
          "metadata": {
            "tags": [],
            "needs_background": "light"
          }
        },
        {
          "output_type": "stream",
          "text": [
            "the Accuracy is :0.94\n"
          ],
          "name": "stdout"
        }
      ]
    },
    {
      "cell_type": "code",
      "metadata": {
        "id": "ALMrtXhbjbEw"
      },
      "source": [
        "from google.colab import drive\n",
        "drive.mount('/gdrive')\n",
        "%cd /gdrive"
      ],
      "execution_count": null,
      "outputs": []
    },
    {
      "cell_type": "code",
      "metadata": {
        "id": "3zpuqE7Y80xZ"
      },
      "source": [
        ""
      ],
      "execution_count": null,
      "outputs": []
    }
  ]
}